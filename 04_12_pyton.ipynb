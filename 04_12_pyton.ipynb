{
  "nbformat": 4,
  "nbformat_minor": 0,
  "metadata": {
    "colab": {
      "name": "04/12 pyton",
      "provenance": []
    },
    "kernelspec": {
      "name": "python3",
      "display_name": "Python 3"
    }
  },
  "cells": [
    {
      "cell_type": "markdown",
      "metadata": {
        "id": "B72YoFVYCGqm",
        "colab_type": "text"
      },
      "source": [
        ""
      ]
    },
    {
      "cell_type": "markdown",
      "metadata": {
        "id": "tC3F7Ov1CJCt",
        "colab_type": "text"
      },
      "source": [
        "### Functional programming\n",
        "1. simple\n",
        "2. easy to understand\n",
        "3. better reuseability\n",
        "4. length of program will be divided into sub program\n"
      ]
    },
    {
      "cell_type": "code",
      "metadata": {
        "id": "pogVro_gCjjb",
        "colab_type": "code",
        "outputId": "73539195-f5a8-4ea3-cfff-c246df0a6308",
        "colab": {
          "base_uri": "https://localhost:8080/",
          "height": 34
        }
      },
      "source": [
        "# read a number\n",
        "#print the even digit sum from the number\n",
        "\n",
        "#input: 1234\n",
        "#output: 6(2+4)\n",
        "def evendigitsum(n):\n",
        "  s=0\n",
        "  while n!=0:\n",
        "    r=n%10\n",
        "    if r%2 == 0:\n",
        "      s = s+r\n",
        "    n= n //10\n",
        "  return s\n",
        "evendigitsum(1234)\n",
        "\n"
      ],
      "execution_count": 0,
      "outputs": [
        {
          "output_type": "execute_result",
          "data": {
            "text/plain": [
              "6"
            ]
          },
          "metadata": {
            "tags": []
          },
          "execution_count": 19
        }
      ]
    },
    {
      "cell_type": "code",
      "metadata": {
        "id": "YHor3UnfHewe",
        "colab_type": "code",
        "colab": {}
      },
      "source": [
        ""
      ],
      "execution_count": 0,
      "outputs": []
    },
    {
      "cell_type": "code",
      "metadata": {
        "id": "BQIwbfP1Gd2W",
        "colab_type": "code",
        "outputId": "fa5abd9b-077a-41b1-87cb-cdeb93c63eb3",
        "colab": {
          "base_uri": "https://localhost:8080/",
          "height": 51
        }
      },
      "source": [
        "# define return function\n",
        "def square(x):\n",
        "  print(x*x)\n",
        "print(square(4))"
      ],
      "execution_count": 0,
      "outputs": [
        {
          "output_type": "stream",
          "text": [
            "16\n",
            "None\n"
          ],
          "name": "stdout"
        }
      ]
    },
    {
      "cell_type": "code",
      "metadata": {
        "id": "9cVU5irZG9eB",
        "colab_type": "code",
        "outputId": "c94b6a5a-225c-4879-d9d3-f2aaa3b8a4da",
        "colab": {
          "base_uri": "https://localhost:8080/",
          "height": 34
        }
      },
      "source": [
        "def square(x):\n",
        "  return x*x\n",
        "square(3)"
      ],
      "execution_count": 0,
      "outputs": [
        {
          "output_type": "execute_result",
          "data": {
            "text/plain": [
              "9"
            ]
          },
          "metadata": {
            "tags": []
          },
          "execution_count": 16
        }
      ]
    },
    {
      "cell_type": "code",
      "metadata": {
        "id": "iAjZFlHPHrRt",
        "colab_type": "code",
        "outputId": "625e2ce9-8332-4c6d-9a4b-cf9d44927a32",
        "colab": {
          "base_uri": "https://localhost:8080/",
          "height": 34
        }
      },
      "source": [
        "def cube(x):\n",
        "  return x*x*x\n",
        "cube(3)"
      ],
      "execution_count": 0,
      "outputs": [
        {
          "output_type": "execute_result",
          "data": {
            "text/plain": [
              "27"
            ]
          },
          "metadata": {
            "tags": []
          },
          "execution_count": 18
        }
      ]
    },
    {
      "cell_type": "code",
      "metadata": {
        "id": "LMeBcmgKIBF_",
        "colab_type": "code",
        "outputId": "6d73365c-e6cb-4c6a-a03b-2a1b355fd216",
        "colab": {
          "base_uri": "https://localhost:8080/",
          "height": 68
        }
      },
      "source": [
        "def multiply(x,y=0):\n",
        "  print(\"value of x=\",x)\n",
        "  print(\"value of y=\",y)\n",
        "  return(x*y)\n",
        "print(multiply(y=2,x=4))"
      ],
      "execution_count": 0,
      "outputs": [
        {
          "output_type": "stream",
          "text": [
            "value of x= 4\n",
            "value of y= 2\n",
            "8\n"
          ],
          "name": "stdout"
        }
      ]
    },
    {
      "cell_type": "code",
      "metadata": {
        "id": "JFh4UbTtJpoV",
        "colab_type": "code",
        "outputId": "144509eb-4f93-4516-961a-e99d19aad582",
        "colab": {
          "base_uri": "https://localhost:8080/",
          "height": 34
        }
      },
      "source": [
        "#swap values\n",
        "def swap(x,y):\n",
        "    temp = x\n",
        "    x = y\n",
        "    y = temp\n",
        "    return x,y\n",
        "swap(19,12)\n"
      ],
      "execution_count": 0,
      "outputs": [
        {
          "output_type": "execute_result",
          "data": {
            "text/plain": [
              "(12, 19)"
            ]
          },
          "metadata": {
            "tags": []
          },
          "execution_count": 35
        }
      ]
    },
    {
      "cell_type": "code",
      "metadata": {
        "id": "AEa5lk_fKotZ",
        "colab_type": "code",
        "outputId": "6aae3137-86b9-4991-c1fc-f1a9a118a93e",
        "colab": {
          "base_uri": "https://localhost:8080/",
          "height": 34
        }
      },
      "source": [
        "#input : 19535\n",
        "#output : 9 (large digit of the given no)\n",
        "def largedigit(n):\n",
        "  large = 0\n",
        "  while n!=0:\n",
        "    r=n%10\n",
        "    if large < r:\n",
        "      large = r\n",
        "    n=n//10\n",
        "  return large\n",
        "largedigit(19535)"
      ],
      "execution_count": 0,
      "outputs": [
        {
          "output_type": "execute_result",
          "data": {
            "text/plain": [
              "9"
            ]
          },
          "metadata": {
            "tags": []
          },
          "execution_count": 40
        }
      ]
    },
    {
      "cell_type": "code",
      "metadata": {
        "id": "Lgb_MKBcQmiF",
        "colab_type": "code",
        "colab": {}
      },
      "source": [
        ""
      ],
      "execution_count": 0,
      "outputs": []
    },
    {
      "cell_type": "markdown",
      "metadata": {
        "id": "ieMz0XsiSHFh",
        "colab_type": "text"
      },
      "source": [
        "##FOR LOOP\n",
        "##### syntax 1:\n",
        "for i in  range (start,stop,step):\n",
        "> statements\n",
        "##### syntax 2:\n",
        "for i in iterableobject:\n",
        "> statements"
      ]
    },
    {
      "cell_type": "code",
      "metadata": {
        "id": "US2LUQnRTFnE",
        "colab_type": "code",
        "outputId": "ce9a5b56-35ff-4afb-f36e-0e8ba69d877d",
        "colab": {
          "base_uri": "https://localhost:8080/",
          "height": 34
        }
      },
      "source": [
        "# Function to print a prime numbers btw two limits\n",
        "def printserials(lb,ub):\n",
        "    for x in range(lb,ub+1):\n",
        "        print(x,end=' ')\n",
        "    return\n",
        "printserials(1,10)"
      ],
      "execution_count": 0,
      "outputs": [
        {
          "output_type": "stream",
          "text": [
            "1 2 3 4 5 6 7 8 9 10 "
          ],
          "name": "stdout"
        }
      ]
    },
    {
      "cell_type": "code",
      "metadata": {
        "id": "JsV6BIrlTFlX",
        "colab_type": "code",
        "colab": {}
      },
      "source": [
        ""
      ],
      "execution_count": 0,
      "outputs": []
    },
    {
      "cell_type": "markdown",
      "metadata": {
        "id": "sT9nI0O7V4Mf",
        "colab_type": "text"
      },
      "source": [
        "### COLLECTIOn TYPES\n",
        "1. list\n",
        "2. tuple\n",
        "3. set\n",
        "4. dictionary \n"
      ]
    },
    {
      "cell_type": "markdown",
      "metadata": {
        "id": "RMkXihcvWU5_",
        "colab_type": "text"
      },
      "source": [
        "### LIST:\n",
        "- One of the data striucture in python\n",
        "- data structure mena s to store , sort and searh options\n",
        "- it's one command sdata structure in python, the items of list seperated by comma and enclosed in square brackets[]\n"
      ]
    },
    {
      "cell_type": "markdown",
      "metadata": {
        "id": "OUixdBNrXSi_",
        "colab_type": "text"
      },
      "source": [
        "### EXAMPLES:\n",
        "- list1 = [1,2,3,4,5]\n",
        "- list2 = [\"gitam\",1,2]"
      ]
    },
    {
      "cell_type": "code",
      "metadata": {
        "id": "yDgYMsNFXvHH",
        "colab_type": "code",
        "outputId": "99cacffe-0431-45a0-8a86-a4b33572467d",
        "colab": {
          "base_uri": "https://localhost:8080/",
          "height": 153
        }
      },
      "source": [
        "li = [1,8,16,9,2]\n",
        "print(li)#will print all the list items\n",
        "print(li[0])\n",
        "print(li[1])\n",
        "print(li[-5])\n",
        "print(li[1:])\n",
        "print(li[1:4])\n",
        "print(li[-4:-1])\n",
        "print(li[:-1])"
      ],
      "execution_count": 0,
      "outputs": [
        {
          "output_type": "stream",
          "text": [
            "[1, 8, 16, 9, 2]\n",
            "1\n",
            "8\n",
            "1\n",
            "[8, 16, 9, 2]\n",
            "[8, 16, 9]\n",
            "[8, 16, 9]\n",
            "[1, 8, 16, 9]\n"
          ],
          "name": "stdout"
        }
      ]
    },
    {
      "cell_type": "code",
      "metadata": {
        "id": "0nJjfIBHcgb7",
        "colab_type": "code",
        "colab": {}
      },
      "source": [
        ""
      ],
      "execution_count": 0,
      "outputs": []
    },
    {
      "cell_type": "markdown",
      "metadata": {
        "id": "LIheqF5IWRB8",
        "colab_type": "text"
      },
      "source": [
        ""
      ]
    },
    {
      "cell_type": "code",
      "metadata": {
        "id": "ruj8oFfEbNae",
        "colab_type": "code",
        "outputId": "aee1b41c-a9d7-45f0-baa7-9064b7fe417f",
        "colab": {
          "base_uri": "https://localhost:8080/",
          "height": 51
        }
      },
      "source": [
        "# update list\n",
        "li = ['gitam',1234,'hyd']\n",
        "print(li)\n",
        "li[1] = 456\n",
        "print(li)"
      ],
      "execution_count": 0,
      "outputs": [
        {
          "output_type": "stream",
          "text": [
            "['gitam', 1234, 'hyd']\n",
            "['gitam', 456, 'hyd']\n"
          ],
          "name": "stdout"
        }
      ]
    },
    {
      "cell_type": "code",
      "metadata": {
        "id": "wY4PCGEDcOep",
        "colab_type": "code",
        "outputId": "9540bf70-ec3e-4c2f-b1a6-85164898aac6",
        "colab": {
          "base_uri": "https://localhost:8080/",
          "height": 34
        }
      },
      "source": [
        "# delete a value frm list\n",
        "li = ['gitam', 1234, 2018, 2019,'hyd']\n",
        "del li[3]\n",
        "print(li)"
      ],
      "execution_count": 0,
      "outputs": [
        {
          "output_type": "stream",
          "text": [
            "['gitam', 1234, 2018, 'hyd']\n"
          ],
          "name": "stdout"
        }
      ]
    },
    {
      "cell_type": "code",
      "metadata": {
        "id": "W3jBtDBbc3Xe",
        "colab_type": "code",
        "colab": {}
      },
      "source": [
        ""
      ],
      "execution_count": 0,
      "outputs": []
    }
  ]
}