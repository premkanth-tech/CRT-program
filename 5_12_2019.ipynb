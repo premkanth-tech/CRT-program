{
  "nbformat": 4,
  "nbformat_minor": 0,
  "metadata": {
    "colab": {
      "name": "5-12-2019",
      "provenance": []
    },
    "kernelspec": {
      "name": "python3",
      "display_name": "Python 3"
    }
  },
  "cells": [
    {
      "cell_type": "code",
      "metadata": {
        "id": "dH-gncctRAqK",
        "colab_type": "code",
        "outputId": "07b1d3c7-a2b0-43fe-8fb3-6bbc586f3dd4",
        "colab": {
          "base_uri": "https://localhost:8080/",
          "height": 85
        }
      },
      "source": [
        "#basic list functions\n",
        "li=[1,9,16,25,5]\n",
        "print(max(li))\n",
        "print(min(li))\n",
        "print(sum(li))\n",
        "print(sum(li)//len(li))"
      ],
      "execution_count": 0,
      "outputs": [
        {
          "output_type": "stream",
          "text": [
            "25\n",
            "1\n",
            "56\n",
            "11\n"
          ],
          "name": "stdout"
        }
      ]
    },
    {
      "cell_type": "code",
      "metadata": {
        "id": "FKHQN-D7R_Pn",
        "colab_type": "code",
        "outputId": "f6775dfa-91b3-42ab-8761-fa3876ad875f",
        "colab": {
          "base_uri": "https://localhost:8080/",
          "height": 34
        }
      },
      "source": [
        "li=[1,9,16,25,5]\n",
        "li.append(29) #new digit will add in the end\n",
        "li.insert(3,56) #(3,56) it means in the place of index 3 it will add 56\n",
        "li"
      ],
      "execution_count": 0,
      "outputs": [
        {
          "output_type": "execute_result",
          "data": {
            "text/plain": [
              "[1, 9, 16, 56, 25, 5, 29]"
            ]
          },
          "metadata": {
            "tags": []
          },
          "execution_count": 5
        }
      ]
    },
    {
      "cell_type": "code",
      "metadata": {
        "id": "sXBjcN-WSPRK",
        "colab_type": "code",
        "outputId": "aa7689f9-a3e6-468c-a133-90aed128cf64",
        "colab": {
          "base_uri": "https://localhost:8080/",
          "height": 34
        }
      },
      "source": [
        "li=[1,9,16,25,5]\n",
        "li.sort() #assign in assending order\n",
        "li"
      ],
      "execution_count": 0,
      "outputs": [
        {
          "output_type": "execute_result",
          "data": {
            "text/plain": [
              "[1, 5, 9, 16, 25]"
            ]
          },
          "metadata": {
            "tags": []
          },
          "execution_count": 6
        }
      ]
    },
    {
      "cell_type": "markdown",
      "metadata": {
        "id": "aDQ_nVdMY9wE",
        "colab_type": "text"
      },
      "source": [
        ""
      ]
    },
    {
      "cell_type": "code",
      "metadata": {
        "id": "Y1yxiiMRS8vS",
        "colab_type": "code",
        "outputId": "eb7bf3aa-ef8b-4357-a75a-29e3c63108ab",
        "colab": {
          "base_uri": "https://localhost:8080/",
          "height": 34
        }
      },
      "source": [
        "li=[1,9,16,25,5]\n",
        "li.pop() #last digit will be eleminated\n",
        "li"
      ],
      "execution_count": 0,
      "outputs": [
        {
          "output_type": "execute_result",
          "data": {
            "text/plain": [
              "[1, 9, 16, 25]"
            ]
          },
          "metadata": {
            "tags": []
          },
          "execution_count": 9
        }
      ]
    },
    {
      "cell_type": "code",
      "metadata": {
        "id": "-QE_2rdQTHfS",
        "colab_type": "code",
        "outputId": "4a9ae006-0d25-46f7-d37b-1bc84c02225f",
        "colab": {
          "base_uri": "https://localhost:8080/",
          "height": 34
        }
      },
      "source": [
        "li1=[1,9,16,25,5]\n",
        "li1.reverse()\n",
        "li1"
      ],
      "execution_count": 0,
      "outputs": [
        {
          "output_type": "execute_result",
          "data": {
            "text/plain": [
              "[5, 25, 16, 9, 1]"
            ]
          },
          "metadata": {
            "tags": []
          },
          "execution_count": 21
        }
      ]
    },
    {
      "cell_type": "code",
      "metadata": {
        "id": "saYXTCGcTt5p",
        "colab_type": "code",
        "colab": {}
      },
      "source": [
        ""
      ],
      "execution_count": 0,
      "outputs": []
    },
    {
      "cell_type": "code",
      "metadata": {
        "id": "LPYMt-b9UB8a",
        "colab_type": "code",
        "outputId": "8f93d8c8-5509-4146-c85b-2fa90fc28e66",
        "colab": {
          "base_uri": "https://localhost:8080/",
          "height": 34
        }
      },
      "source": [
        "li=[1,9,16,25,5]\n",
        "li.extend(li)\n",
        "li"
      ],
      "execution_count": 0,
      "outputs": [
        {
          "output_type": "execute_result",
          "data": {
            "text/plain": [
              "[1, 9, 16, 25, 5, 1, 9, 16, 25, 5]"
            ]
          },
          "metadata": {
            "tags": []
          },
          "execution_count": 16
        }
      ]
    },
    {
      "cell_type": "code",
      "metadata": {
        "id": "Uc0tOy9PU2Sp",
        "colab_type": "code",
        "outputId": "591d611a-62ae-446e-c7fd-0e3b93c9fafa",
        "colab": {
          "base_uri": "https://localhost:8080/",
          "height": 51
        }
      },
      "source": [
        "def largenumber(li):\n",
        "    li.sort()\n",
        "    return li[-1]\n",
        "def genericlarge(li,n):\n",
        "    li.sort()\n",
        "    return li[-n]\n",
        "li=[19,1,25,6,9,45,22]\n",
        "print(largenumber(li))\n",
        "print(genericlarge(li,3))"
      ],
      "execution_count": 0,
      "outputs": [
        {
          "output_type": "stream",
          "text": [
            "45\n",
            "22\n"
          ],
          "name": "stdout"
        }
      ]
    },
    {
      "cell_type": "code",
      "metadata": {
        "id": "YSW_YJLLVIVi",
        "colab_type": "code",
        "outputId": "d5860680-655b-4650-d16c-b806b604cc06",
        "colab": {
          "base_uri": "https://localhost:8080/",
          "height": 51
        }
      },
      "source": [
        "def smallnumber(li):\n",
        "    li.sort()\n",
        "    return li[0]\n",
        "def genericsmall(li,n):\n",
        "    li.sort()\n",
        "    return li[n-1]\n",
        "li=[19,1,25,6,9,45,22]\n",
        "print(smallnumber(li))\n",
        "print(genericsmall(li,3))"
      ],
      "execution_count": 0,
      "outputs": [
        {
          "output_type": "stream",
          "text": [
            "1\n",
            "9\n"
          ],
          "name": "stdout"
        }
      ]
    },
    {
      "cell_type": "markdown",
      "metadata": {
        "id": "tgMnEqFuY90o",
        "colab_type": "text"
      },
      "source": [
        "#**Tuples**\n",
        "###-parenthesis( ) ---->Tuple  and square brackets[ ] ----->list\n",
        "###-list are mutable - can be changed/modified\n",
        "###-used to access and modified,add,delete data\n",
        "###-tuple are mutable - cannot be changed/modified\n",
        "###-used to access data only"
      ]
    },
    {
      "cell_type": "code",
      "metadata": {
        "id": "171n1ctZb3QT",
        "colab_type": "code",
        "outputId": "e17f7595-acba-4012-fe69-04b8db4f12c0",
        "colab": {
          "base_uri": "https://localhost:8080/",
          "height": 34
        }
      },
      "source": [
        "t1=(1,2,3,4,5,6)\n",
        "t1\n",
        "print(type(t1),t1[1:5])"
      ],
      "execution_count": 0,
      "outputs": [
        {
          "output_type": "stream",
          "text": [
            "<class 'tuple'> (2, 3, 4, 5)\n"
          ],
          "name": "stdout"
        }
      ]
    },
    {
      "cell_type": "markdown",
      "metadata": {
        "id": "KtMctM43cLtj",
        "colab_type": "text"
      },
      "source": [
        "#**Dictionaries**\n",
        "1. It works on the concept of set unique data\n",
        "2. Keys,values is the unique identifier for the value\n",
        "3. Each key is seperated from its values with colon(:)\n",
        "4. Each key and value is seperated with comma(,)\n",
        "5. Dictionaries enchanes with curly braces ( { } )"
      ]
    },
    {
      "cell_type": "code",
      "metadata": {
        "id": "OD_EjtYpeTSe",
        "colab_type": "code",
        "colab": {}
      },
      "source": [
        "d1={name} #access specifiers key"
      ],
      "execution_count": 0,
      "outputs": []
    },
    {
      "cell_type": "code",
      "metadata": {
        "id": "xd3hahGCehfp",
        "colab_type": "code",
        "outputId": "7aeb11b2-a5a6-4c74-9566-4b8e7a408f63",
        "colab": {
          "base_uri": "https://localhost:8080/",
          "height": 34
        }
      },
      "source": [
        "d1={\"name\":\"gitam\",\"email id\":\"gitam@gmail.com\",\"address\":\"hyderabad\"}\n",
        "d1[\"email id\"]=\"gitampyton@gmail.com\" #update the data\n",
        "d1"
      ],
      "execution_count": 0,
      "outputs": [
        {
          "output_type": "execute_result",
          "data": {
            "text/plain": [
              "{'address': 'hyderabad', 'email id': 'gitampyton@gmail.com', 'name': 'gitam'}"
            ]
          },
          "metadata": {
            "tags": []
          },
          "execution_count": 36
        }
      ]
    },
    {
      "cell_type": "code",
      "metadata": {
        "id": "ek6I29kRfR52",
        "colab_type": "code",
        "outputId": "92daa587-b81b-4333-9c5c-23988ee30783",
        "colab": {
          "base_uri": "https://localhost:8080/",
          "height": 34
        }
      },
      "source": [
        "d1[\"email id\"]"
      ],
      "execution_count": 0,
      "outputs": [
        {
          "output_type": "execute_result",
          "data": {
            "text/plain": [
              "'gitampyton@gmail.com'"
            ]
          },
          "metadata": {
            "tags": []
          },
          "execution_count": 37
        }
      ]
    },
    {
      "cell_type": "code",
      "metadata": {
        "id": "jVT7j9jDfYyK",
        "colab_type": "code",
        "outputId": "86b59fd6-9b6f-4a7f-ed58-5fdf7a67f679",
        "colab": {
          "base_uri": "https://localhost:8080/",
          "height": 85
        }
      },
      "source": [
        "d1[\"corse\"]=\"python\"\n",
        "d1"
      ],
      "execution_count": 0,
      "outputs": [
        {
          "output_type": "execute_result",
          "data": {
            "text/plain": [
              "{'address': 'hyderabad',\n",
              " 'corse': 'python',\n",
              " 'email id': 'gitampyton@gmail.com',\n",
              " 'name': 'gitam'}"
            ]
          },
          "metadata": {
            "tags": []
          },
          "execution_count": 40
        }
      ]
    },
    {
      "cell_type": "code",
      "metadata": {
        "id": "nS0QvW0wflNq",
        "colab_type": "code",
        "outputId": "4ecfe7eb-2fd2-44f2-e233-d7f84e9a9129",
        "colab": {
          "base_uri": "https://localhost:8080/",
          "height": 34
        }
      },
      "source": [
        "d1.keys()"
      ],
      "execution_count": 0,
      "outputs": [
        {
          "output_type": "execute_result",
          "data": {
            "text/plain": [
              "dict_keys(['name', 'email id', 'address', 'corse'])"
            ]
          },
          "metadata": {
            "tags": []
          },
          "execution_count": 44
        }
      ]
    },
    {
      "cell_type": "code",
      "metadata": {
        "id": "cQUnh0GMg6lU",
        "colab_type": "code",
        "outputId": "a3cbafdd-4779-4912-ac9a-6937d7015cce",
        "colab": {
          "base_uri": "https://localhost:8080/",
          "height": 34
        }
      },
      "source": [
        "d1.values()"
      ],
      "execution_count": 0,
      "outputs": [
        {
          "output_type": "execute_result",
          "data": {
            "text/plain": [
              "dict_values(['prem', 'gitampyton@gmail.com', 'hyderabad', 'python'])"
            ]
          },
          "metadata": {
            "tags": []
          },
          "execution_count": 45
        }
      ]
    },
    {
      "cell_type": "code",
      "metadata": {
        "id": "Jx2Qo61mhAbJ",
        "colab_type": "code",
        "outputId": "48bb3cd1-605f-4aff-893d-0313718ca25a",
        "colab": {
          "base_uri": "https://localhost:8080/",
          "height": 34
        }
      },
      "source": [
        "d1.items()"
      ],
      "execution_count": 0,
      "outputs": [
        {
          "output_type": "execute_result",
          "data": {
            "text/plain": [
              "dict_items([('name', 'prem'), ('email id', 'gitampyton@gmail.com'), ('address', 'hyderabad'), ('corse', 'python')])"
            ]
          },
          "metadata": {
            "tags": []
          },
          "execution_count": 47
        }
      ]
    },
    {
      "cell_type": "markdown",
      "metadata": {
        "id": "sJwd9ZjUhcSj",
        "colab_type": "text"
      },
      "source": [
        "# **String:**\n",
        "### -strings\n",
        "### -strings slicings\n",
        "### -fundemantal programming with string in python\n",
        "# New Section"
      ]
    },
    {
      "cell_type": "code",
      "metadata": {
        "id": "XkQNHnl9iLrn",
        "colab_type": "code",
        "outputId": "a751992b-08ee-490e-cd48-6f1ab1e90a24",
        "colab": {
          "base_uri": "https://localhost:8080/",
          "height": 51
        }
      },
      "source": [
        "s1='python'\n",
        "print(s1)\n",
        "print(type(s1))"
      ],
      "execution_count": 0,
      "outputs": [
        {
          "output_type": "stream",
          "text": [
            "python\n",
            "<class 'str'>\n"
          ],
          "name": "stdout"
        }
      ]
    },
    {
      "cell_type": "code",
      "metadata": {
        "id": "d1xp94p-iXb6",
        "colab_type": "code",
        "outputId": "b78bc906-87f8-4906-e337-81f5f58a8a7d",
        "colab": {
          "base_uri": "https://localhost:8080/",
          "height": 85
        }
      },
      "source": [
        "s1='python'\n",
        "print(s1[0])\n",
        "print(s1[1])\n",
        "print(s1[5])\n",
        "print(s1[len(s1)-1])"
      ],
      "execution_count": 0,
      "outputs": [
        {
          "output_type": "stream",
          "text": [
            "p\n",
            "y\n",
            "n\n",
            "n\n"
          ],
          "name": "stdout"
        }
      ]
    },
    {
      "cell_type": "code",
      "metadata": {
        "id": "4KfJziu_ix4J",
        "colab_type": "code",
        "outputId": "01421a20-f778-4abc-fdf9-7adffd7257e2",
        "colab": {
          "base_uri": "https://localhost:8080/",
          "height": 119
        }
      },
      "source": [
        "print(s1[-1])\n",
        "print(s1[-2])\n",
        "print(s1[0:2])\n",
        "print(s1[:2])\n",
        "print(s1[-3:])\n",
        "print(s1[2:])\n"
      ],
      "execution_count": 0,
      "outputs": [
        {
          "output_type": "stream",
          "text": [
            "n\n",
            "o\n",
            "py\n",
            "py\n",
            "hon\n",
            "thon\n"
          ],
          "name": "stdout"
        }
      ]
    },
    {
      "cell_type": "code",
      "metadata": {
        "id": "s6e_TWqSkXJh",
        "colab_type": "code",
        "outputId": "e8460bf3-ff0f-4bfc-8c84-6f008bce76c0",
        "colab": {
          "base_uri": "https://localhost:8080/",
          "height": 136
        }
      },
      "source": [
        "print(s1[1:-1])\n",
        "print(s1[len(s1)//2])\n",
        "print(s1[-1::-1])\n",
        "print(s1[-1:3:-1])\n",
        "print(s1[::2])\n",
        "print(s1[::3])\n",
        "print(s1[::-2])"
      ],
      "execution_count": 0,
      "outputs": [
        {
          "output_type": "stream",
          "text": [
            "ytho\n",
            "h\n",
            "nohtyp\n",
            "no\n",
            "pto\n",
            "ph\n",
            "nhy\n"
          ],
          "name": "stdout"
        }
      ]
    },
    {
      "cell_type": "code",
      "metadata": {
        "id": "hca0OaVslN-C",
        "colab_type": "code",
        "outputId": "20cda1b8-4541-4a42-85d4-070c80c674a0",
        "colab": {
          "base_uri": "https://localhost:8080/",
          "height": 34
        }
      },
      "source": [
        "#reversing a string\n",
        "def reversestring(str):\n",
        "    return str[-1::-1]\n",
        "reversestring(\"programing\")"
      ],
      "execution_count": 0,
      "outputs": [
        {
          "output_type": "execute_result",
          "data": {
            "text/plain": [
              "'gnimargorp'"
            ]
          },
          "metadata": {
            "tags": []
          },
          "execution_count": 62
        }
      ]
    },
    {
      "cell_type": "code",
      "metadata": {
        "id": "i8wjG4TvnnCP",
        "colab_type": "code",
        "outputId": "7ca6f053-68d9-468b-f920-11dd98cf7b2d",
        "colab": {
          "base_uri": "https://localhost:8080/",
          "height": 51
        }
      },
      "source": [
        "#check whether the given string is a palindrome or not\n",
        "def ispalindrome(str):\n",
        "    if str==str[::-1]:\n",
        "      return True\n",
        "    else:\n",
        "        return False\n",
        "        return\n",
        "print(ispalindrome(\"pyton\"))\n",
        "print(ispalindrome(\"ganag\"))"
      ],
      "execution_count": 0,
      "outputs": [
        {
          "output_type": "stream",
          "text": [
            "False\n",
            "True\n"
          ],
          "name": "stdout"
        }
      ]
    },
    {
      "cell_type": "markdown",
      "metadata": {
        "id": "HzUXUKcwpSrD",
        "colab_type": "text"
      },
      "source": [
        ""
      ]
    },
    {
      "cell_type": "markdown",
      "metadata": {
        "id": "pLmZO3rZpTBD",
        "colab_type": "text"
      },
      "source": [
        "#**string built-in methods:**\n",
        "###1.upper( ) --will convert the input string into upper case\n",
        "###2.lower( ) --will convert the input string into lower case"
      ]
    },
    {
      "cell_type": "code",
      "metadata": {
        "id": "XY81RbFBpbUc",
        "colab_type": "code",
        "outputId": "0a6de3de-b209-4aaf-dbd3-32719c419c69",
        "colab": {
          "base_uri": "https://localhost:8080/",
          "height": 51
        }
      },
      "source": [
        "s1='pyton'\n",
        "print(s1.upper())\n",
        "print(s1.lower())"
      ],
      "execution_count": 0,
      "outputs": [
        {
          "output_type": "stream",
          "text": [
            "PYTON\n",
            "pyton\n"
          ],
          "name": "stdout"
        }
      ]
    },
    {
      "cell_type": "markdown",
      "metadata": {
        "id": "1XLTKgX_qS4L",
        "colab_type": "text"
      },
      "source": [
        "### **string boolean built-in methods**\n",
        "### 3.islower( ) --True if the string have all characters lower case\n",
        "### 4.isupper( ) --True if the string have all characters upper case\n",
        "### 5.istitle( ) --True if the string in little case\n",
        "### 6.isnumeric( ) --True if the string numeric\n",
        "### 7.isalpha( ) --True if the string only alphabets\n",
        "### 8.isspace( ) --True if the string is space\n",
        "\n"
      ]
    },
    {
      "cell_type": "code",
      "metadata": {
        "id": "xxZRNZiksBtm",
        "colab_type": "code",
        "outputId": "952405e2-23d5-49fc-8481-9be5d5e5c203",
        "colab": {
          "base_uri": "https://localhost:8080/",
          "height": 119
        }
      },
      "source": [
        "s1='python'\n",
        "print(s1.islower())\n",
        "print(s1.isupper())\n",
        "print(s1.istitle())\n",
        "print(s1.isnumeric())\n",
        "print(s1.isalpha())\n",
        "print(s1.isspace())"
      ],
      "execution_count": 0,
      "outputs": [
        {
          "output_type": "stream",
          "text": [
            "True\n",
            "False\n",
            "False\n",
            "False\n",
            "True\n",
            "False\n"
          ],
          "name": "stdout"
        }
      ]
    },
    {
      "cell_type": "code",
      "metadata": {
        "id": "4oiDThEx07W6",
        "colab_type": "code",
        "colab": {}
      },
      "source": [
        ""
      ],
      "execution_count": 0,
      "outputs": []
    },
    {
      "cell_type": "code",
      "metadata": {
        "id": "yfMe7TxVsxHq",
        "colab_type": "code",
        "colab": {}
      },
      "source": [
        ""
      ],
      "execution_count": 0,
      "outputs": []
    },
    {
      "cell_type": "markdown",
      "metadata": {
        "id": "cMAaO0HXtOoN",
        "colab_type": "text"
      },
      "source": [
        "### **string methods**\n",
        "### -join( ) --methods will concatinates the two strings\n",
        "### -split( ) --split( ) returns the a list of strings seperated by white space(no parameters)\n",
        "### -replace( ) --replace the specific word/character with new word or character"
      ]
    },
    {
      "cell_type": "code",
      "metadata": {
        "id": "2Xr4SuxJuKY4",
        "colab_type": "code",
        "outputId": "63377f87-fb4f-4ba4-f3e5-58572f6634cb",
        "colab": {
          "base_uri": "https://localhost:8080/",
          "height": 34
        }
      },
      "source": [
        "s1='python'\n",
        "print(''.join(s1))"
      ],
      "execution_count": 0,
      "outputs": [
        {
          "output_type": "stream",
          "text": [
            "python\n"
          ],
          "name": "stdout"
        }
      ]
    },
    {
      "cell_type": "code",
      "metadata": {
        "id": "l7qJ9oO8wdTL",
        "colab_type": "code",
        "outputId": "8868328f-cd8e-41b2-e892-accdec0e46ef",
        "colab": {
          "base_uri": "https://localhost:8080/",
          "height": 34
        }
      },
      "source": [
        "s2=[\"python\",\"programig\",\"easy\",\"to\",\"learn\"]\n",
        "print(\",\".join(s2))"
      ],
      "execution_count": 0,
      "outputs": [
        {
          "output_type": "stream",
          "text": [
            "python,programig,easy,to,learn\n"
          ],
          "name": "stdout"
        }
      ]
    },
    {
      "cell_type": "code",
      "metadata": {
        "id": "kfAxJJrbua9c",
        "colab_type": "code",
        "outputId": "9210a678-b095-4e72-fbd9-bc8efcf7b8a1",
        "colab": {
          "base_uri": "https://localhost:8080/",
          "height": 34
        }
      },
      "source": [
        "s2=\"python programig easy to learn\"\n",
        "print(s2.split())"
      ],
      "execution_count": 0,
      "outputs": [
        {
          "output_type": "stream",
          "text": [
            "['python', 'programig', 'easy', 'to', 'learn']\n"
          ],
          "name": "stdout"
        }
      ]
    },
    {
      "cell_type": "code",
      "metadata": {
        "id": "GcOfnoNXvVB6",
        "colab_type": "code",
        "outputId": "0f03a436-53f1-4126-c8f8-1d852462adba",
        "colab": {
          "base_uri": "https://localhost:8080/",
          "height": 34
        }
      },
      "source": [
        "s2=\"python programming easy to learn\"\n",
        "print(s2.split('a'))"
      ],
      "execution_count": 0,
      "outputs": [
        {
          "output_type": "stream",
          "text": [
            "['python progr', 'mming e', 'sy to le', 'rn']\n"
          ],
          "name": "stdout"
        }
      ]
    },
    {
      "cell_type": "code",
      "metadata": {
        "id": "IfkooseDvpVx",
        "colab_type": "code",
        "outputId": "6fe84953-4158-4583-8750-721526863447",
        "colab": {
          "base_uri": "https://localhost:8080/",
          "height": 54
        }
      },
      "source": [
        "s2=\"python programming easy to learn\"\n",
        "li=list(s2)\n",
        "print(li)"
      ],
      "execution_count": 0,
      "outputs": [
        {
          "output_type": "stream",
          "text": [
            "['p', 'y', 't', 'h', 'o', 'n', ' ', 'p', 'r', 'o', 'g', 'r', 'a', 'm', 'm', 'i', 'n', 'g', ' ', 'e', 'a', 's', 'y', ' ', 't', 'o', ' ', 'l', 'e', 'a', 'r', 'n']\n"
          ],
          "name": "stdout"
        }
      ]
    },
    {
      "cell_type": "code",
      "metadata": {
        "id": "GF_q-UDiwA4R",
        "colab_type": "code",
        "outputId": "b6cc39a2-c34b-4e1a-93ed-7a72e96f82f5",
        "colab": {
          "base_uri": "https://localhost:8080/",
          "height": 34
        }
      },
      "source": [
        "s2=\"pyton programming easy to learn\"\n",
        "print(s2.replace(\"gra\",\"application\"))"
      ],
      "execution_count": 0,
      "outputs": [
        {
          "output_type": "stream",
          "text": [
            "pyton proapplicationmming easy to learn\n"
          ],
          "name": "stdout"
        }
      ]
    },
    {
      "cell_type": "code",
      "metadata": {
        "id": "30Vtazl6wX1z",
        "colab_type": "code",
        "colab": {}
      },
      "source": [
        ""
      ],
      "execution_count": 0,
      "outputs": []
    }
  ]
}